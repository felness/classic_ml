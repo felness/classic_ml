{
 "cells": [
  {
   "cell_type": "code",
   "execution_count": 2,
   "id": "d856bbba",
   "metadata": {},
   "outputs": [],
   "source": [
    "import pandas as pd\n",
    "import numpy as np\n",
    "import matplotlib.pyplot as plt\n",
    "import seaborn as sns\n"
   ]
  },
  {
   "cell_type": "code",
   "execution_count": 10,
   "id": "e3a48d00",
   "metadata": {},
   "outputs": [],
   "source": [
    "data = pd.read_csv('train.csv')"
   ]
  },
  {
   "cell_type": "code",
   "execution_count": 11,
   "id": "d7e36ad5",
   "metadata": {},
   "outputs": [
    {
     "data": {
      "text/html": [
       "<div>\n",
       "<style scoped>\n",
       "    .dataframe tbody tr th:only-of-type {\n",
       "        vertical-align: middle;\n",
       "    }\n",
       "\n",
       "    .dataframe tbody tr th {\n",
       "        vertical-align: top;\n",
       "    }\n",
       "\n",
       "    .dataframe thead th {\n",
       "        text-align: right;\n",
       "    }\n",
       "</style>\n",
       "<table border=\"1\" class=\"dataframe\">\n",
       "  <thead>\n",
       "    <tr style=\"text-align: right;\">\n",
       "      <th></th>\n",
       "      <th>year</th>\n",
       "      <th>make</th>\n",
       "      <th>model</th>\n",
       "      <th>trim</th>\n",
       "      <th>body</th>\n",
       "      <th>transmission</th>\n",
       "      <th>vin</th>\n",
       "      <th>state</th>\n",
       "      <th>condition</th>\n",
       "      <th>odometer</th>\n",
       "      <th>color</th>\n",
       "      <th>interior</th>\n",
       "      <th>seller</th>\n",
       "      <th>saledate</th>\n",
       "      <th>sellingprice</th>\n",
       "    </tr>\n",
       "  </thead>\n",
       "  <tbody>\n",
       "    <tr>\n",
       "      <th>0</th>\n",
       "      <td>2013</td>\n",
       "      <td>Dodge</td>\n",
       "      <td>Dart</td>\n",
       "      <td>Limited</td>\n",
       "      <td>Sedan</td>\n",
       "      <td>automatic</td>\n",
       "      <td>1c3cdfca5dd293552</td>\n",
       "      <td>mo</td>\n",
       "      <td>4.6</td>\n",
       "      <td>13957.0</td>\n",
       "      <td>gray</td>\n",
       "      <td>black</td>\n",
       "      <td>chrysler capital</td>\n",
       "      <td>Wed Jan 21 2015 02:30:00 GMT-0800 (PST)</td>\n",
       "      <td>14500</td>\n",
       "    </tr>\n",
       "    <tr>\n",
       "      <th>1</th>\n",
       "      <td>2014</td>\n",
       "      <td>Honda</td>\n",
       "      <td>Civic</td>\n",
       "      <td>LX</td>\n",
       "      <td>Sedan</td>\n",
       "      <td>automatic</td>\n",
       "      <td>19xfb2f56ee228781</td>\n",
       "      <td>ca</td>\n",
       "      <td>5.0</td>\n",
       "      <td>2401.0</td>\n",
       "      <td>gray</td>\n",
       "      <td>black</td>\n",
       "      <td>ahfc/honda lease trust/hvt, inc.</td>\n",
       "      <td>Thu Feb 26 2015 04:00:00 GMT-0800 (PST)</td>\n",
       "      <td>16500</td>\n",
       "    </tr>\n",
       "    <tr>\n",
       "      <th>2</th>\n",
       "      <td>2012</td>\n",
       "      <td>Chevrolet</td>\n",
       "      <td>Traverse</td>\n",
       "      <td>LT</td>\n",
       "      <td>suv</td>\n",
       "      <td>automatic</td>\n",
       "      <td>1gnkrged3cj244704</td>\n",
       "      <td>wi</td>\n",
       "      <td>2.4</td>\n",
       "      <td>70046.0</td>\n",
       "      <td>white</td>\n",
       "      <td>black</td>\n",
       "      <td>capital one auto finance</td>\n",
       "      <td>Wed Jun 17 2015 03:00:00 GMT-0700 (PDT)</td>\n",
       "      <td>13700</td>\n",
       "    </tr>\n",
       "    <tr>\n",
       "      <th>3</th>\n",
       "      <td>2014</td>\n",
       "      <td>Nissan</td>\n",
       "      <td>Versa Note</td>\n",
       "      <td>1.6 SV</td>\n",
       "      <td>Hatchback</td>\n",
       "      <td>automatic</td>\n",
       "      <td>3n1ce2cp9el407766</td>\n",
       "      <td>fl</td>\n",
       "      <td>2.6</td>\n",
       "      <td>23415.0</td>\n",
       "      <td>gray</td>\n",
       "      <td>black</td>\n",
       "      <td>florida auto financial group</td>\n",
       "      <td>Tue Feb 17 2015 01:30:00 GMT-0800 (PST)</td>\n",
       "      <td>9800</td>\n",
       "    </tr>\n",
       "    <tr>\n",
       "      <th>4</th>\n",
       "      <td>2014</td>\n",
       "      <td>Nissan</td>\n",
       "      <td>Versa</td>\n",
       "      <td>1.6 SV</td>\n",
       "      <td>sedan</td>\n",
       "      <td>automatic</td>\n",
       "      <td>3n1cn7ap4el813308</td>\n",
       "      <td>il</td>\n",
       "      <td>3.4</td>\n",
       "      <td>17040.0</td>\n",
       "      <td>blue</td>\n",
       "      <td>black</td>\n",
       "      <td>nissan motor acceptance corporation</td>\n",
       "      <td>Thu Jun 04 2015 03:00:00 GMT-0700 (PDT)</td>\n",
       "      <td>10300</td>\n",
       "    </tr>\n",
       "  </tbody>\n",
       "</table>\n",
       "</div>"
      ],
      "text/plain": [
       "   year       make       model     trim       body transmission  \\\n",
       "0  2013      Dodge        Dart  Limited      Sedan    automatic   \n",
       "1  2014      Honda       Civic       LX      Sedan    automatic   \n",
       "2  2012  Chevrolet    Traverse       LT        suv    automatic   \n",
       "3  2014     Nissan  Versa Note   1.6 SV  Hatchback    automatic   \n",
       "4  2014     Nissan       Versa   1.6 SV      sedan    automatic   \n",
       "\n",
       "                 vin state  condition  odometer  color interior  \\\n",
       "0  1c3cdfca5dd293552    mo        4.6   13957.0   gray    black   \n",
       "1  19xfb2f56ee228781    ca        5.0    2401.0   gray    black   \n",
       "2  1gnkrged3cj244704    wi        2.4   70046.0  white    black   \n",
       "3  3n1ce2cp9el407766    fl        2.6   23415.0   gray    black   \n",
       "4  3n1cn7ap4el813308    il        3.4   17040.0   blue    black   \n",
       "\n",
       "                                seller  \\\n",
       "0                     chrysler capital   \n",
       "1     ahfc/honda lease trust/hvt, inc.   \n",
       "2             capital one auto finance   \n",
       "3         florida auto financial group   \n",
       "4  nissan motor acceptance corporation   \n",
       "\n",
       "                                  saledate  sellingprice  \n",
       "0  Wed Jan 21 2015 02:30:00 GMT-0800 (PST)         14500  \n",
       "1  Thu Feb 26 2015 04:00:00 GMT-0800 (PST)         16500  \n",
       "2  Wed Jun 17 2015 03:00:00 GMT-0700 (PDT)         13700  \n",
       "3  Tue Feb 17 2015 01:30:00 GMT-0800 (PST)          9800  \n",
       "4  Thu Jun 04 2015 03:00:00 GMT-0700 (PDT)         10300  "
      ]
     },
     "execution_count": 11,
     "metadata": {},
     "output_type": "execute_result"
    }
   ],
   "source": [
    "data.head()"
   ]
  },
  {
   "cell_type": "code",
   "execution_count": 12,
   "id": "69267846",
   "metadata": {},
   "outputs": [
    {
     "name": "stdout",
     "output_type": "stream",
     "text": [
      "<class 'pandas.core.frame.DataFrame'>\n",
      "RangeIndex: 396212 entries, 0 to 396211\n",
      "Data columns (total 15 columns):\n",
      " #   Column        Non-Null Count   Dtype  \n",
      "---  ------        --------------   -----  \n",
      " 0   year          396212 non-null  int64  \n",
      " 1   make          388993 non-null  object \n",
      " 2   model         388922 non-null  object \n",
      " 3   trim          388727 non-null  object \n",
      " 4   body          386883 non-null  object \n",
      " 5   transmission  350025 non-null  object \n",
      " 6   vin           396212 non-null  object \n",
      " 7   state         396212 non-null  object \n",
      " 8   condition     387759 non-null  float64\n",
      " 9   odometer      396151 non-null  float64\n",
      " 10  color         395679 non-null  object \n",
      " 11  interior      395679 non-null  object \n",
      " 12  seller        396212 non-null  object \n",
      " 13  saledate      396212 non-null  object \n",
      " 14  sellingprice  396212 non-null  int64  \n",
      "dtypes: float64(2), int64(2), object(11)\n",
      "memory usage: 45.3+ MB\n"
     ]
    }
   ],
   "source": [
    "data.info()"
   ]
  },
  {
   "cell_type": "code",
   "execution_count": 14,
   "id": "c15c7a9e",
   "metadata": {},
   "outputs": [
    {
     "data": {
      "text/html": [
       "<div>\n",
       "<style scoped>\n",
       "    .dataframe tbody tr th:only-of-type {\n",
       "        vertical-align: middle;\n",
       "    }\n",
       "\n",
       "    .dataframe tbody tr th {\n",
       "        vertical-align: top;\n",
       "    }\n",
       "\n",
       "    .dataframe thead th {\n",
       "        text-align: right;\n",
       "    }\n",
       "</style>\n",
       "<table border=\"1\" class=\"dataframe\">\n",
       "  <thead>\n",
       "    <tr style=\"text-align: right;\">\n",
       "      <th></th>\n",
       "      <th>year</th>\n",
       "      <th>condition</th>\n",
       "      <th>odometer</th>\n",
       "      <th>sellingprice</th>\n",
       "    </tr>\n",
       "  </thead>\n",
       "  <tbody>\n",
       "    <tr>\n",
       "      <th>count</th>\n",
       "      <td>396212.000000</td>\n",
       "      <td>387759.000000</td>\n",
       "      <td>396151.000000</td>\n",
       "      <td>396212.000000</td>\n",
       "    </tr>\n",
       "    <tr>\n",
       "      <th>mean</th>\n",
       "      <td>2010.041442</td>\n",
       "      <td>3.425687</td>\n",
       "      <td>68336.479029</td>\n",
       "      <td>13593.389859</td>\n",
       "    </tr>\n",
       "    <tr>\n",
       "      <th>std</th>\n",
       "      <td>3.977384</td>\n",
       "      <td>0.949871</td>\n",
       "      <td>53559.280598</td>\n",
       "      <td>9754.143816</td>\n",
       "    </tr>\n",
       "    <tr>\n",
       "      <th>min</th>\n",
       "      <td>1982.000000</td>\n",
       "      <td>1.000000</td>\n",
       "      <td>1.000000</td>\n",
       "      <td>1.000000</td>\n",
       "    </tr>\n",
       "    <tr>\n",
       "      <th>25%</th>\n",
       "      <td>2007.000000</td>\n",
       "      <td>2.700000</td>\n",
       "      <td>28259.000000</td>\n",
       "      <td>6900.000000</td>\n",
       "    </tr>\n",
       "    <tr>\n",
       "      <th>50%</th>\n",
       "      <td>2012.000000</td>\n",
       "      <td>3.600000</td>\n",
       "      <td>52113.000000</td>\n",
       "      <td>12100.000000</td>\n",
       "    </tr>\n",
       "    <tr>\n",
       "      <th>75%</th>\n",
       "      <td>2013.000000</td>\n",
       "      <td>4.200000</td>\n",
       "      <td>99300.000000</td>\n",
       "      <td>18200.000000</td>\n",
       "    </tr>\n",
       "    <tr>\n",
       "      <th>max</th>\n",
       "      <td>2015.000000</td>\n",
       "      <td>5.000000</td>\n",
       "      <td>999999.000000</td>\n",
       "      <td>230000.000000</td>\n",
       "    </tr>\n",
       "  </tbody>\n",
       "</table>\n",
       "</div>"
      ],
      "text/plain": [
       "                year      condition       odometer   sellingprice\n",
       "count  396212.000000  387759.000000  396151.000000  396212.000000\n",
       "mean     2010.041442       3.425687   68336.479029   13593.389859\n",
       "std         3.977384       0.949871   53559.280598    9754.143816\n",
       "min      1982.000000       1.000000       1.000000       1.000000\n",
       "25%      2007.000000       2.700000   28259.000000    6900.000000\n",
       "50%      2012.000000       3.600000   52113.000000   12100.000000\n",
       "75%      2013.000000       4.200000   99300.000000   18200.000000\n",
       "max      2015.000000       5.000000  999999.000000  230000.000000"
      ]
     },
     "execution_count": 14,
     "metadata": {},
     "output_type": "execute_result"
    }
   ],
   "source": [
    "data.describe()"
   ]
  },
  {
   "cell_type": "code",
   "execution_count": 15,
   "id": "da663817",
   "metadata": {},
   "outputs": [
    {
     "data": {
      "text/plain": [
       "year                0\n",
       "make             7219\n",
       "model            7290\n",
       "trim             7485\n",
       "body             9329\n",
       "transmission    46187\n",
       "vin                 0\n",
       "state               0\n",
       "condition        8453\n",
       "odometer           61\n",
       "color             533\n",
       "interior          533\n",
       "seller              0\n",
       "saledate            0\n",
       "sellingprice        0\n",
       "dtype: int64"
      ]
     },
     "execution_count": 15,
     "metadata": {},
     "output_type": "execute_result"
    }
   ],
   "source": [
    "data.isnull().sum()"
   ]
  },
  {
   "cell_type": "code",
   "execution_count": 16,
   "id": "e27f47ab",
   "metadata": {},
   "outputs": [],
   "source": [
    "X = data.drop('sellingprice', axis=1)\n",
    "y = data['sellingprice']"
   ]
  },
  {
   "cell_type": "code",
   "execution_count": 17,
   "id": "bc2c036a",
   "metadata": {},
   "outputs": [
    {
     "data": {
      "text/html": [
       "<div>\n",
       "<style scoped>\n",
       "    .dataframe tbody tr th:only-of-type {\n",
       "        vertical-align: middle;\n",
       "    }\n",
       "\n",
       "    .dataframe tbody tr th {\n",
       "        vertical-align: top;\n",
       "    }\n",
       "\n",
       "    .dataframe thead th {\n",
       "        text-align: right;\n",
       "    }\n",
       "</style>\n",
       "<table border=\"1\" class=\"dataframe\">\n",
       "  <thead>\n",
       "    <tr style=\"text-align: right;\">\n",
       "      <th></th>\n",
       "      <th>make</th>\n",
       "      <th>model</th>\n",
       "      <th>trim</th>\n",
       "      <th>body</th>\n",
       "      <th>transmission</th>\n",
       "      <th>vin</th>\n",
       "      <th>state</th>\n",
       "      <th>color</th>\n",
       "      <th>interior</th>\n",
       "      <th>seller</th>\n",
       "      <th>saledate</th>\n",
       "    </tr>\n",
       "  </thead>\n",
       "  <tbody>\n",
       "    <tr>\n",
       "      <th>count</th>\n",
       "      <td>388993</td>\n",
       "      <td>388922</td>\n",
       "      <td>388727</td>\n",
       "      <td>386883</td>\n",
       "      <td>350025</td>\n",
       "      <td>396212</td>\n",
       "      <td>396212</td>\n",
       "      <td>395679</td>\n",
       "      <td>395679</td>\n",
       "      <td>396212</td>\n",
       "      <td>396212</td>\n",
       "    </tr>\n",
       "    <tr>\n",
       "      <th>unique</th>\n",
       "      <td>91</td>\n",
       "      <td>949</td>\n",
       "      <td>1899</td>\n",
       "      <td>83</td>\n",
       "      <td>2</td>\n",
       "      <td>396212</td>\n",
       "      <td>38</td>\n",
       "      <td>20</td>\n",
       "      <td>17</td>\n",
       "      <td>12530</td>\n",
       "      <td>3544</td>\n",
       "    </tr>\n",
       "    <tr>\n",
       "      <th>top</th>\n",
       "      <td>Ford</td>\n",
       "      <td>Altima</td>\n",
       "      <td>Base</td>\n",
       "      <td>Sedan</td>\n",
       "      <td>automatic</td>\n",
       "      <td>wvgav7ax0bw511195</td>\n",
       "      <td>fl</td>\n",
       "      <td>black</td>\n",
       "      <td>black</td>\n",
       "      <td>nissan-infiniti lt</td>\n",
       "      <td>Tue Feb 10 2015 01:30:00 GMT-0800 (PST)</td>\n",
       "    </tr>\n",
       "    <tr>\n",
       "      <th>freq</th>\n",
       "      <td>66391</td>\n",
       "      <td>13969</td>\n",
       "      <td>39538</td>\n",
       "      <td>141921</td>\n",
       "      <td>337646</td>\n",
       "      <td>1</td>\n",
       "      <td>59164</td>\n",
       "      <td>78576</td>\n",
       "      <td>173230</td>\n",
       "      <td>14323</td>\n",
       "      <td>3783</td>\n",
       "    </tr>\n",
       "  </tbody>\n",
       "</table>\n",
       "</div>"
      ],
      "text/plain": [
       "          make   model    trim    body transmission                vin  \\\n",
       "count   388993  388922  388727  386883       350025             396212   \n",
       "unique      91     949    1899      83            2             396212   \n",
       "top       Ford  Altima    Base   Sedan    automatic  wvgav7ax0bw511195   \n",
       "freq     66391   13969   39538  141921       337646                  1   \n",
       "\n",
       "         state   color interior              seller  \\\n",
       "count   396212  395679   395679              396212   \n",
       "unique      38      20       17               12530   \n",
       "top         fl   black    black  nissan-infiniti lt   \n",
       "freq     59164   78576   173230               14323   \n",
       "\n",
       "                                       saledate  \n",
       "count                                    396212  \n",
       "unique                                     3544  \n",
       "top     Tue Feb 10 2015 01:30:00 GMT-0800 (PST)  \n",
       "freq                                       3783  "
      ]
     },
     "execution_count": 17,
     "metadata": {},
     "output_type": "execute_result"
    }
   ],
   "source": [
    "X.describe(include=object)\n",
    "year - год производства\n",
    "make - производитель\n",
    "model - модель\n",
    "trim - модификация\n",
    "body - тип кузова\n",
    "transmission - тип КПП\n",
    "vin - идентификатор (вин)\n",
    "state - штат регистрации\n",
    "condition - состояние по шкале (1-5)\n",
    "odometer - пробег в милях\n",
    "color - цвет кузова\n",
    "interior - цвет интерьера\n",
    "seller - продавец\n",
    "saledate - дата продажи"
   ]
  },
  {
   "cell_type": "code",
   "execution_count": 18,
   "id": "f4fb42c3",
   "metadata": {},
   "outputs": [],
   "source": [
    "X = X.drop('vin', axis=1)"
   ]
  },
  {
   "cell_type": "code",
   "execution_count": 33,
   "id": "abd0b265",
   "metadata": {},
   "outputs": [
    {
     "ename": "KeyError",
     "evalue": "\"None of [Float64Index([ 13957.0,   2401.0,  70046.0,  23415.0,  17040.0, 165504.0,\\n               43683.0,  15285.0,  36311.0,  76460.0,\\n              ...\\n              107546.0,  25242.0,  58509.0,  96666.0,  33534.0,  35826.0,\\n              109793.0, 178070.0,  39167.0,  76037.0],\\n             dtype='float64', length=396212)] are in the [columns]\"",
     "output_type": "error",
     "traceback": [
      "\u001b[0;31m---------------------------------------------------------------------------\u001b[0m",
      "\u001b[0;31mKeyError\u001b[0m                                  Traceback (most recent call last)",
      "\u001b[0;32m/tmp/ipykernel_4152/3183173340.py\u001b[0m in \u001b[0;36m<module>\u001b[0;34m\u001b[0m\n\u001b[1;32m      1\u001b[0m \u001b[0mplt\u001b[0m\u001b[0;34m.\u001b[0m\u001b[0mfigure\u001b[0m\u001b[0;34m(\u001b[0m\u001b[0mfigsize\u001b[0m\u001b[0;34m=\u001b[0m\u001b[0;34m(\u001b[0m\u001b[0;36m12\u001b[0m\u001b[0;34m,\u001b[0m\u001b[0;36m8\u001b[0m\u001b[0;34m)\u001b[0m\u001b[0;34m,\u001b[0m \u001b[0mdpi\u001b[0m\u001b[0;34m=\u001b[0m\u001b[0;36m200\u001b[0m\u001b[0;34m)\u001b[0m\u001b[0;34m\u001b[0m\u001b[0;34m\u001b[0m\u001b[0m\n\u001b[1;32m      2\u001b[0m sns.scatterplot(data=X, x=data[data['odometer'] >= 900000],\n\u001b[0;32m----> 3\u001b[0;31m                 y=data[data['odometer']]['year'], hue='year')\n\u001b[0m",
      "\u001b[0;32m~/anaconda3/envs/ML/lib/python3.7/site-packages/pandas/core/frame.py\u001b[0m in \u001b[0;36m__getitem__\u001b[0;34m(self, key)\u001b[0m\n\u001b[1;32m   2906\u001b[0m             \u001b[0;32mif\u001b[0m \u001b[0mis_iterator\u001b[0m\u001b[0;34m(\u001b[0m\u001b[0mkey\u001b[0m\u001b[0;34m)\u001b[0m\u001b[0;34m:\u001b[0m\u001b[0;34m\u001b[0m\u001b[0;34m\u001b[0m\u001b[0m\n\u001b[1;32m   2907\u001b[0m                 \u001b[0mkey\u001b[0m \u001b[0;34m=\u001b[0m \u001b[0mlist\u001b[0m\u001b[0;34m(\u001b[0m\u001b[0mkey\u001b[0m\u001b[0;34m)\u001b[0m\u001b[0;34m\u001b[0m\u001b[0;34m\u001b[0m\u001b[0m\n\u001b[0;32m-> 2908\u001b[0;31m             \u001b[0mindexer\u001b[0m \u001b[0;34m=\u001b[0m \u001b[0mself\u001b[0m\u001b[0;34m.\u001b[0m\u001b[0mloc\u001b[0m\u001b[0;34m.\u001b[0m\u001b[0m_get_listlike_indexer\u001b[0m\u001b[0;34m(\u001b[0m\u001b[0mkey\u001b[0m\u001b[0;34m,\u001b[0m \u001b[0maxis\u001b[0m\u001b[0;34m=\u001b[0m\u001b[0;36m1\u001b[0m\u001b[0;34m,\u001b[0m \u001b[0mraise_missing\u001b[0m\u001b[0;34m=\u001b[0m\u001b[0;32mTrue\u001b[0m\u001b[0;34m)\u001b[0m\u001b[0;34m[\u001b[0m\u001b[0;36m1\u001b[0m\u001b[0;34m]\u001b[0m\u001b[0;34m\u001b[0m\u001b[0;34m\u001b[0m\u001b[0m\n\u001b[0m\u001b[1;32m   2909\u001b[0m \u001b[0;34m\u001b[0m\u001b[0m\n\u001b[1;32m   2910\u001b[0m         \u001b[0;31m# take() does not accept boolean indexers\u001b[0m\u001b[0;34m\u001b[0m\u001b[0;34m\u001b[0m\u001b[0;34m\u001b[0m\u001b[0m\n",
      "\u001b[0;32m~/anaconda3/envs/ML/lib/python3.7/site-packages/pandas/core/indexing.py\u001b[0m in \u001b[0;36m_get_listlike_indexer\u001b[0;34m(self, key, axis, raise_missing)\u001b[0m\n\u001b[1;32m   1252\u001b[0m             \u001b[0mkeyarr\u001b[0m\u001b[0;34m,\u001b[0m \u001b[0mindexer\u001b[0m\u001b[0;34m,\u001b[0m \u001b[0mnew_indexer\u001b[0m \u001b[0;34m=\u001b[0m \u001b[0max\u001b[0m\u001b[0;34m.\u001b[0m\u001b[0m_reindex_non_unique\u001b[0m\u001b[0;34m(\u001b[0m\u001b[0mkeyarr\u001b[0m\u001b[0;34m)\u001b[0m\u001b[0;34m\u001b[0m\u001b[0;34m\u001b[0m\u001b[0m\n\u001b[1;32m   1253\u001b[0m \u001b[0;34m\u001b[0m\u001b[0m\n\u001b[0;32m-> 1254\u001b[0;31m         \u001b[0mself\u001b[0m\u001b[0;34m.\u001b[0m\u001b[0m_validate_read_indexer\u001b[0m\u001b[0;34m(\u001b[0m\u001b[0mkeyarr\u001b[0m\u001b[0;34m,\u001b[0m \u001b[0mindexer\u001b[0m\u001b[0;34m,\u001b[0m \u001b[0maxis\u001b[0m\u001b[0;34m,\u001b[0m \u001b[0mraise_missing\u001b[0m\u001b[0;34m=\u001b[0m\u001b[0mraise_missing\u001b[0m\u001b[0;34m)\u001b[0m\u001b[0;34m\u001b[0m\u001b[0;34m\u001b[0m\u001b[0m\n\u001b[0m\u001b[1;32m   1255\u001b[0m         \u001b[0;32mreturn\u001b[0m \u001b[0mkeyarr\u001b[0m\u001b[0;34m,\u001b[0m \u001b[0mindexer\u001b[0m\u001b[0;34m\u001b[0m\u001b[0;34m\u001b[0m\u001b[0m\n\u001b[1;32m   1256\u001b[0m \u001b[0;34m\u001b[0m\u001b[0m\n",
      "\u001b[0;32m~/anaconda3/envs/ML/lib/python3.7/site-packages/pandas/core/indexing.py\u001b[0m in \u001b[0;36m_validate_read_indexer\u001b[0;34m(self, key, indexer, axis, raise_missing)\u001b[0m\n\u001b[1;32m   1296\u001b[0m             \u001b[0;32mif\u001b[0m \u001b[0mmissing\u001b[0m \u001b[0;34m==\u001b[0m \u001b[0mlen\u001b[0m\u001b[0;34m(\u001b[0m\u001b[0mindexer\u001b[0m\u001b[0;34m)\u001b[0m\u001b[0;34m:\u001b[0m\u001b[0;34m\u001b[0m\u001b[0;34m\u001b[0m\u001b[0m\n\u001b[1;32m   1297\u001b[0m                 \u001b[0maxis_name\u001b[0m \u001b[0;34m=\u001b[0m \u001b[0mself\u001b[0m\u001b[0;34m.\u001b[0m\u001b[0mobj\u001b[0m\u001b[0;34m.\u001b[0m\u001b[0m_get_axis_name\u001b[0m\u001b[0;34m(\u001b[0m\u001b[0maxis\u001b[0m\u001b[0;34m)\u001b[0m\u001b[0;34m\u001b[0m\u001b[0;34m\u001b[0m\u001b[0m\n\u001b[0;32m-> 1298\u001b[0;31m                 \u001b[0;32mraise\u001b[0m \u001b[0mKeyError\u001b[0m\u001b[0;34m(\u001b[0m\u001b[0;34mf\"None of [{key}] are in the [{axis_name}]\"\u001b[0m\u001b[0;34m)\u001b[0m\u001b[0;34m\u001b[0m\u001b[0;34m\u001b[0m\u001b[0m\n\u001b[0m\u001b[1;32m   1299\u001b[0m \u001b[0;34m\u001b[0m\u001b[0m\n\u001b[1;32m   1300\u001b[0m             \u001b[0;31m# We (temporarily) allow for some missing keys with .loc, except in\u001b[0m\u001b[0;34m\u001b[0m\u001b[0;34m\u001b[0m\u001b[0;34m\u001b[0m\u001b[0m\n",
      "\u001b[0;31mKeyError\u001b[0m: \"None of [Float64Index([ 13957.0,   2401.0,  70046.0,  23415.0,  17040.0, 165504.0,\\n               43683.0,  15285.0,  36311.0,  76460.0,\\n              ...\\n              107546.0,  25242.0,  58509.0,  96666.0,  33534.0,  35826.0,\\n              109793.0, 178070.0,  39167.0,  76037.0],\\n             dtype='float64', length=396212)] are in the [columns]\""
     ]
    },
    {
     "data": {
      "text/plain": [
       "<Figure size 2400x1600 with 0 Axes>"
      ]
     },
     "metadata": {},
     "output_type": "display_data"
    }
   ],
   "source": [
    "plt.figure(figsize=(12,8), dpi=200)\n",
    "sns.scatterplot(data=X, x=data[data['odometer'] >= 900000],\n",
    "                y=data[data['odometer']]['year'], hue='year')"
   ]
  },
  {
   "cell_type": "code",
   "execution_count": 26,
   "id": "3f9f078f",
   "metadata": {},
   "outputs": [
    {
     "data": {
      "text/plain": [
       "<AxesSubplot:xlabel='odometer', ylabel='Count'>"
      ]
     },
     "execution_count": 26,
     "metadata": {},
     "output_type": "execute_result"
    },
    {
     "data": {
      "image/png": "[encoded data removed]",
      "text/plain": [
       "<Figure size 2400x1600 with 1 Axes>"
      ]
     },
     "metadata": {},
     "output_type": "display_data"
    }
   ],
   "source": [
    "plt.figure(figsize=(12,8), dpi=200)\n",
    "sns.histplot(data=X, x='odometer', bins=100 )"
   ]
  },
  {
   "cell_type": "code",
   "execution_count": 28,
   "id": "91c62572",
   "metadata": {},
   "outputs": [
    {
     "data": {
      "text/plain": [
       "<AxesSubplot:xlabel='odometer'>"
      ]
     },
     "execution_count": 28,
     "metadata": {},
     "output_type": "execute_result"
    },
    {
     "data": {
      "image/png": "[encoded data removed]",
      "text/plain": [
       "<Figure size 640x480 with 1 Axes>"
      ]
     },
     "metadata": {},
     "output_type": "display_data"
    }
   ],
   "source": [
    "sns.boxplot(data=X, x=data['odometer'])"
   ]
  },
  {
   "cell_type": "code",
   "execution_count": 37,
   "id": "521b1c82",
   "metadata": {},
   "outputs": [
    {
     "data": {
      "text/plain": [
       "<AxesSubplot:>"
      ]
     },
     "execution_count": 37,
     "metadata": {},
     "output_type": "execute_result"
    },
    {
     "data": {
      "image/png": "[encoded data removed]",
      "text/plain": [
       "<Figure size 640x480 with 2 Axes>"
      ]
     },
     "metadata": {},
     "output_type": "display_data"
    }
   ],
   "source": [
    "num_cols = data.columns[data.dtypes != object]\n",
    "sns.heatmap(data[num_cols].corr(), annot=True)"
   ]
  },
  {
   "cell_type": "code",
   "execution_count": null,
   "id": "768f6e3d",
   "metadata": {},
   "outputs": [],
   "source": []
  }
 ],
 "metadata": {
  "kernelspec": {
   "display_name": "Python 3 (ipykernel)",
   "language": "python",
   "name": "python3"
  },
  "language_info": {
   "codemirror_mode": {
    "name": "ipython",
    "version": 3
   },
   "file_extension": ".py",
   "mimetype": "text/x-python",
   "name": "python",
   "nbconvert_exporter": "python",
   "pygments_lexer": "ipython3",
   "version": "3.7.7"
  }
 },
 "nbformat": 4,
 "nbformat_minor": 5
}
