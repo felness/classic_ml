{
 "cells": [
  {
   "cell_type": "markdown",
   "metadata": {
    "id": "AkS7Lxm8nTLB"
   },
   "source": [
    "# Метрические алгоритмы. Практика"
   ]
  },
  {
   "cell_type": "markdown",
   "metadata": {
    "id": "3jgxaKLXynLQ"
   },
   "source": [
    "В этом домашнем задании вы будете решать задачу классификации бутылок вина по различным характеристикам."
   ]
  },
  {
   "cell_type": "markdown",
   "metadata": {
    "id": "ow7CdXlWyrfI"
   },
   "source": [
    "## Импорт библиотек, установка константных значений"
   ]
  },
  {
   "cell_type": "code",
   "execution_count": 1,
   "metadata": {
    "id": "shgV5ZT-oLG2"
   },
   "outputs": [],
   "source": [
    "import pandas as pd\n",
    "import numpy as np"
   ]
  },
  {
   "cell_type": "code",
   "execution_count": 2,
   "metadata": {
    "id": "85Rgp6ivyvZq"
   },
   "outputs": [],
   "source": [
    "RANDOM_STATE = 42\n",
    "TRAIN_SIZE = 0.75"
   ]
  },
  {
   "cell_type": "code",
   "execution_count": 3,
   "metadata": {
    "id": "QGpwI1GxyySs"
   },
   "outputs": [],
   "source": [
    "rng = np.random.default_rng(RANDOM_STATE)"
   ]
  },
  {
   "cell_type": "markdown",
   "metadata": {
    "id": "uOk2Swygyxho"
   },
   "source": [
    "## Загрузка данных"
   ]
  },
  {
   "cell_type": "code",
   "execution_count": 4,
   "metadata": {
    "id": "_8RhxtHwwzTG"
   },
   "outputs": [],
   "source": [
    "from sklearn.datasets import load_wine\n",
    "\n",
    "data = load_wine(as_frame=True)\n",
    "\n",
    "X = data.data\n",
    "y = data.target"
   ]
  },
  {
   "cell_type": "markdown",
   "metadata": {
    "id": "KvNTy4_yzOwY"
   },
   "source": [
    "## Задание 1"
   ]
  },
  {
   "cell_type": "markdown",
   "metadata": {
    "id": "PNKeCjtEncob"
   },
   "source": [
    "Посмотрите на количество классов и количество объектов каждого класса в датасете."
   ]
  },
  {
   "cell_type": "markdown",
   "metadata": {
    "id": "1O1xV6KWzW8e"
   },
   "source": [
    "**Вопрос**:  \n",
    "Сколько классов в задаче?"
   ]
  },
  {
   "cell_type": "code",
   "execution_count": 7,
   "metadata": {
    "id": "vnIXJMT9nh78"
   },
   "outputs": [
    {
     "data": {
      "text/plain": [
       "1    71\n",
       "0    59\n",
       "2    48\n",
       "Name: target, dtype: int64"
      ]
     },
     "execution_count": 7,
     "metadata": {},
     "output_type": "execute_result"
    }
   ],
   "source": [
    "y.value_counts()"
   ]
  },
  {
   "cell_type": "markdown",
   "metadata": {
    "id": "jk9RqS69z6af"
   },
   "source": [
    "## Задание 2"
   ]
  },
  {
   "cell_type": "markdown",
   "metadata": {
    "id": "S8dnUB81nkG0"
   },
   "source": [
    "Мы имеем дело с многоклассовой классификацией. Кроме того, классы не очень хорошо сбалансированы, поэтому для оценки качества модели метрика *accuracy* не подойдет."
   ]
  },
  {
   "cell_type": "markdown",
   "metadata": {
    "id": "qM6ZTfphyL8W"
   },
   "source": [
    "Разбейте данные на тренировочную и тестовую части:  \n",
    "тестовая часть - 25% от всех данных, зафиксируйте `random_state = RANDOM_STATE`."
   ]
  },
  {
   "cell_type": "code",
   "execution_count": 29,
   "metadata": {
    "id": "f16RkGUaxUh4"
   },
   "outputs": [],
   "source": [
    "from sklearn.model_selection import train_test_split\n",
    "\n",
    "X_train, X_test, y_train, y_test = train_test_split(X, y, test_size=0.25, random_state=RANDOM_STATE)"
   ]
  },
  {
   "cell_type": "markdown",
   "metadata": {
    "id": "bX6Vv4dryREe"
   },
   "source": [
    "**Вопрос:**\n",
    "\n",
    "Все ли признаки в данных одного масштаба?  \n",
    "Проверьте это, выведя основные числовые характеристики матрицы `X_train` методом `describe` из библиотеки `pandas`.\n",
    "\n",
    "По полученной таблице числовых характеристик определите, какой признак измеряется в сотнях?  \n",
    "(если вариантов несколько, выберите признак с наибольшим средним значением)."
   ]
  },
  {
   "cell_type": "code",
   "execution_count": 11,
   "metadata": {
    "id": "VTOG8ggByUSZ"
   },
   "outputs": [
    {
     "data": {
      "text/html": [
       "<div>\n",
       "<style scoped>\n",
       "    .dataframe tbody tr th:only-of-type {\n",
       "        vertical-align: middle;\n",
       "    }\n",
       "\n",
       "    .dataframe tbody tr th {\n",
       "        vertical-align: top;\n",
       "    }\n",
       "\n",
       "    .dataframe thead th {\n",
       "        text-align: right;\n",
       "    }\n",
       "</style>\n",
       "<table border=\"1\" class=\"dataframe\">\n",
       "  <thead>\n",
       "    <tr style=\"text-align: right;\">\n",
       "      <th></th>\n",
       "      <th>count</th>\n",
       "      <th>mean</th>\n",
       "      <th>std</th>\n",
       "      <th>min</th>\n",
       "      <th>25%</th>\n",
       "      <th>50%</th>\n",
       "      <th>75%</th>\n",
       "      <th>max</th>\n",
       "    </tr>\n",
       "  </thead>\n",
       "  <tbody>\n",
       "    <tr>\n",
       "      <th>alcohol</th>\n",
       "      <td>44.0</td>\n",
       "      <td>13.042955</td>\n",
       "      <td>0.847943</td>\n",
       "      <td>11.56</td>\n",
       "      <td>12.3700</td>\n",
       "      <td>13.050</td>\n",
       "      <td>13.7250</td>\n",
       "      <td>14.83</td>\n",
       "    </tr>\n",
       "    <tr>\n",
       "      <th>malic_acid</th>\n",
       "      <td>44.0</td>\n",
       "      <td>2.247727</td>\n",
       "      <td>1.008219</td>\n",
       "      <td>0.94</td>\n",
       "      <td>1.6375</td>\n",
       "      <td>1.765</td>\n",
       "      <td>2.7500</td>\n",
       "      <td>5.19</td>\n",
       "    </tr>\n",
       "    <tr>\n",
       "      <th>ash</th>\n",
       "      <td>44.0</td>\n",
       "      <td>2.375227</td>\n",
       "      <td>0.285881</td>\n",
       "      <td>1.36</td>\n",
       "      <td>2.2500</td>\n",
       "      <td>2.380</td>\n",
       "      <td>2.5125</td>\n",
       "      <td>3.23</td>\n",
       "    </tr>\n",
       "    <tr>\n",
       "      <th>alcalinity_of_ash</th>\n",
       "      <td>44.0</td>\n",
       "      <td>19.500000</td>\n",
       "      <td>4.303055</td>\n",
       "      <td>10.60</td>\n",
       "      <td>17.3250</td>\n",
       "      <td>20.000</td>\n",
       "      <td>22.0000</td>\n",
       "      <td>28.50</td>\n",
       "    </tr>\n",
       "    <tr>\n",
       "      <th>magnesium</th>\n",
       "      <td>44.0</td>\n",
       "      <td>98.613636</td>\n",
       "      <td>12.680723</td>\n",
       "      <td>80.00</td>\n",
       "      <td>87.7500</td>\n",
       "      <td>97.500</td>\n",
       "      <td>106.5000</td>\n",
       "      <td>126.00</td>\n",
       "    </tr>\n",
       "    <tr>\n",
       "      <th>total_phenols</th>\n",
       "      <td>44.0</td>\n",
       "      <td>2.315455</td>\n",
       "      <td>0.695030</td>\n",
       "      <td>1.30</td>\n",
       "      <td>1.7250</td>\n",
       "      <td>2.150</td>\n",
       "      <td>2.8750</td>\n",
       "      <td>3.88</td>\n",
       "    </tr>\n",
       "    <tr>\n",
       "      <th>flavanoids</th>\n",
       "      <td>44.0</td>\n",
       "      <td>2.072273</td>\n",
       "      <td>1.125815</td>\n",
       "      <td>0.57</td>\n",
       "      <td>1.2425</td>\n",
       "      <td>1.800</td>\n",
       "      <td>2.9825</td>\n",
       "      <td>5.08</td>\n",
       "    </tr>\n",
       "    <tr>\n",
       "      <th>nonflavanoid_phenols</th>\n",
       "      <td>44.0</td>\n",
       "      <td>0.352500</td>\n",
       "      <td>0.126732</td>\n",
       "      <td>0.13</td>\n",
       "      <td>0.2575</td>\n",
       "      <td>0.330</td>\n",
       "      <td>0.4325</td>\n",
       "      <td>0.63</td>\n",
       "    </tr>\n",
       "    <tr>\n",
       "      <th>proanthocyanins</th>\n",
       "      <td>44.0</td>\n",
       "      <td>1.608864</td>\n",
       "      <td>0.545925</td>\n",
       "      <td>0.42</td>\n",
       "      <td>1.2750</td>\n",
       "      <td>1.545</td>\n",
       "      <td>1.8700</td>\n",
       "      <td>2.96</td>\n",
       "    </tr>\n",
       "    <tr>\n",
       "      <th>color_intensity</th>\n",
       "      <td>44.0</td>\n",
       "      <td>5.483636</td>\n",
       "      <td>2.433656</td>\n",
       "      <td>1.95</td>\n",
       "      <td>3.3600</td>\n",
       "      <td>5.400</td>\n",
       "      <td>7.1250</td>\n",
       "      <td>10.80</td>\n",
       "    </tr>\n",
       "    <tr>\n",
       "      <th>hue</th>\n",
       "      <td>44.0</td>\n",
       "      <td>0.923409</td>\n",
       "      <td>0.237995</td>\n",
       "      <td>0.48</td>\n",
       "      <td>0.7400</td>\n",
       "      <td>0.955</td>\n",
       "      <td>1.0725</td>\n",
       "      <td>1.42</td>\n",
       "    </tr>\n",
       "    <tr>\n",
       "      <th>od280/od315_of_diluted_wines</th>\n",
       "      <td>44.0</td>\n",
       "      <td>2.484773</td>\n",
       "      <td>0.750118</td>\n",
       "      <td>1.29</td>\n",
       "      <td>1.7250</td>\n",
       "      <td>2.740</td>\n",
       "      <td>3.1375</td>\n",
       "      <td>3.71</td>\n",
       "    </tr>\n",
       "    <tr>\n",
       "      <th>proline</th>\n",
       "      <td>44.0</td>\n",
       "      <td>746.227273</td>\n",
       "      <td>298.422431</td>\n",
       "      <td>406.00</td>\n",
       "      <td>495.0000</td>\n",
       "      <td>655.000</td>\n",
       "      <td>1046.2500</td>\n",
       "      <td>1547.00</td>\n",
       "    </tr>\n",
       "  </tbody>\n",
       "</table>\n",
       "</div>"
      ],
      "text/plain": [
       "                              count        mean         std     min       25%  \\\n",
       "alcohol                        44.0   13.042955    0.847943   11.56   12.3700   \n",
       "malic_acid                     44.0    2.247727    1.008219    0.94    1.6375   \n",
       "ash                            44.0    2.375227    0.285881    1.36    2.2500   \n",
       "alcalinity_of_ash              44.0   19.500000    4.303055   10.60   17.3250   \n",
       "magnesium                      44.0   98.613636   12.680723   80.00   87.7500   \n",
       "total_phenols                  44.0    2.315455    0.695030    1.30    1.7250   \n",
       "flavanoids                     44.0    2.072273    1.125815    0.57    1.2425   \n",
       "nonflavanoid_phenols           44.0    0.352500    0.126732    0.13    0.2575   \n",
       "proanthocyanins                44.0    1.608864    0.545925    0.42    1.2750   \n",
       "color_intensity                44.0    5.483636    2.433656    1.95    3.3600   \n",
       "hue                            44.0    0.923409    0.237995    0.48    0.7400   \n",
       "od280/od315_of_diluted_wines   44.0    2.484773    0.750118    1.29    1.7250   \n",
       "proline                        44.0  746.227273  298.422431  406.00  495.0000   \n",
       "\n",
       "                                  50%        75%      max  \n",
       "alcohol                        13.050    13.7250    14.83  \n",
       "malic_acid                      1.765     2.7500     5.19  \n",
       "ash                             2.380     2.5125     3.23  \n",
       "alcalinity_of_ash              20.000    22.0000    28.50  \n",
       "magnesium                      97.500   106.5000   126.00  \n",
       "total_phenols                   2.150     2.8750     3.88  \n",
       "flavanoids                      1.800     2.9825     5.08  \n",
       "nonflavanoid_phenols            0.330     0.4325     0.63  \n",
       "proanthocyanins                 1.545     1.8700     2.96  \n",
       "color_intensity                 5.400     7.1250    10.80  \n",
       "hue                             0.955     1.0725     1.42  \n",
       "od280/od315_of_diluted_wines    2.740     3.1375     3.71  \n",
       "proline                       655.000  1046.2500  1547.00  "
      ]
     },
     "execution_count": 11,
     "metadata": {},
     "output_type": "execute_result"
    }
   ],
   "source": [
    "X_train.describe().T"
   ]
  },
  {
   "cell_type": "markdown",
   "metadata": {
    "id": "6VANARbT0Vu5"
   },
   "source": [
    "## Задание 3"
   ]
  },
  {
   "cell_type": "markdown",
   "metadata": {
    "id": "e1dfCiISo_GH"
   },
   "source": [
    "KNN требует того, чтобы все признаки были одного масштаба, поэтому масштабируйте данные при помощи `StandardScaler`.\n",
    "\n",
    "Напоминаем, что обучать метод нужно только по тренировочным данным, а применять и к трейну, и к тесту.\n",
    "\n",
    "После применения `StandardScaler` преобразуйте `X_train` и `X_test` к типу `pd.DataFrame`, названия новых объектов оставьте `X_train` и `X_test`."
   ]
  },
  {
   "cell_type": "code",
   "execution_count": 30,
   "metadata": {
    "id": "IMWxZOLMpLg_"
   },
   "outputs": [],
   "source": [
    "from sklearn.preprocessing import StandardScaler\n",
    "\n",
    "scaler = StandardScaler()\n",
    "X_train = scaler.fit_transform(X_train)\n",
    "X_test = scaler.transform(X_test)"
   ]
  },
  {
   "cell_type": "markdown",
   "metadata": {
    "id": "wfjxuX1hyOpd"
   },
   "source": [
    "Обучите KNN с параметрами по умолчанию на тренировочных данных и сделайте предсказание на тесте."
   ]
  },
  {
   "cell_type": "code",
   "execution_count": 31,
   "metadata": {
    "id": "VeyYEAO2yQhL"
   },
   "outputs": [],
   "source": [
    "from sklearn.neighbors import KNeighborsClassifier\n",
    "\n",
    "knn_model = KNeighborsClassifier()\n",
    "knn_model.fit(X_train, y_train)\n",
    "predict = knn_model.predict(X_test)"
   ]
  },
  {
   "cell_type": "markdown",
   "metadata": {
    "id": "E18N3QNMrQLw"
   },
   "source": [
    "Будем измерять качество модели по метрике weighted $f1$-score.\n",
    "\n",
    "Чтобы выбрать тип усреднения (micro, macro, weighted) в функции `f1_score` необходимо задать этот тип в гиперпараметре `average`.\n",
    "\n",
    "Вычислите $f1$-score на тестовых данных."
   ]
  },
  {
   "cell_type": "markdown",
   "metadata": {
    "id": "aLaSCeCf0uPd"
   },
   "source": [
    "**Вопрос:**\n",
    "\n",
    "Чему равен $f1$-score на тестовых данных?"
   ]
  },
  {
   "cell_type": "code",
   "execution_count": 33,
   "metadata": {
    "id": "TdhIWbULrnPv"
   },
   "outputs": [
    {
     "data": {
      "text/plain": [
       "0.96"
      ]
     },
     "execution_count": 33,
     "metadata": {},
     "output_type": "execute_result"
    }
   ],
   "source": [
    "from sklearn.metrics import f1_score\n",
    "\n",
    "f1_w = f1_score(y_test, predict, average='weighted')\n",
    "round(f1_w,2)"
   ]
  },
  {
   "cell_type": "markdown",
   "metadata": {
    "id": "kco77ab200s9"
   },
   "source": [
    "## Задание 4"
   ]
  },
  {
   "cell_type": "markdown",
   "metadata": {
    "id": "BONbGWi1yVIQ"
   },
   "source": [
    "Попробуем улучшить модель.\n",
    "\n",
    "Подберите оптимальное количество соседей (`n_neighbors`) из диапазона *от 3 до 30 с шагом 2* и веса соседей (`weights`):  \n",
    "`uniform`, `distance` по кросс-валидации с тремя фолдами на тренировочных данных.\n",
    "\n",
    "Используйте `GridSearchCV` и метрику `f1_weighted`."
   ]
  },
  {
   "cell_type": "code",
   "execution_count": 40,
   "metadata": {
    "id": "6nM_wc6iydB-"
   },
   "outputs": [],
   "source": [
    "from sklearn.model_selection import GridSearchCV\n",
    "\n",
    "param_grid = {\n",
    "    'n_neighbors' : np.arange(3,30, 2),\n",
    "    'weights' : ['uniform', 'distance']\n",
    "}\n",
    "grid_model = GridSearchCV(KNeighborsClassifier(), param_grid=param_grid, cv=3)\n",
    "grid_model.fit(X_train, y_train)\n",
    "model = grid_model.best_estimator_"
   ]
  },
  {
   "cell_type": "markdown",
   "metadata": {
    "id": "b6mM-XXps5Af"
   },
   "source": [
    "Возьмите best_estimator_, полученный при обучении GridSearchCV и с помощью него  \n",
    "сделайте предсказание на тесте и вычислите метрику `f1_weighted`."
   ]
  },
  {
   "cell_type": "code",
   "execution_count": 41,
   "metadata": {
    "id": "6Sn00daNtGWd"
   },
   "outputs": [
    {
     "data": {
      "text/plain": [
       "0.9550512333965844"
      ]
     },
     "execution_count": 41,
     "metadata": {},
     "output_type": "execute_result"
    }
   ],
   "source": [
    "predict = model.predict(X_test)\n",
    "f1_w = f1_score( y_test, predict, average='weighted')\n",
    "f1_w"
   ]
  },
  {
   "cell_type": "markdown",
   "metadata": {
    "id": "HzAQzK3JtT7h"
   },
   "source": [
    "**Вопрос:**\n",
    "\n",
    "Удалось ли при помощи подбора гиперпараметров улучшить качество модели на тестовых данных?"
   ]
  },
  {
   "cell_type": "markdown",
   "metadata": {
    "id": "iLzHwlkj1cjs"
   },
   "source": [
    "## Задание 5"
   ]
  },
  {
   "cell_type": "markdown",
   "metadata": {
    "id": "tdm2A5SSylYQ"
   },
   "source": [
    "Выведите на экран матрицу ошибок.\n",
    "\n",
    "Используйте модель с подобранными при помощи `GridSearch` гиперпараметрами.\n"
   ]
  },
  {
   "cell_type": "markdown",
   "metadata": {
    "id": "FHgD2EQG1i1V"
   },
   "source": [
    "**Вопрос:**  \n",
    "По этой матрице определите, какие классы между собой путает модель?"
   ]
  },
  {
   "cell_type": "code",
   "execution_count": 42,
   "metadata": {
    "id": "I5u0A5a0yqge"
   },
   "outputs": [
    {
     "data": {
      "text/plain": [
       "array([[15,  0,  0],\n",
       "       [ 1, 16,  1],\n",
       "       [ 0,  0, 12]])"
      ]
     },
     "execution_count": 42,
     "metadata": {},
     "output_type": "execute_result"
    }
   ],
   "source": [
    "from sklearn.metrics import confusion_matrix\n",
    "confusion_matrix(y_test, predict)"
   ]
  },
  {
   "cell_type": "markdown",
   "metadata": {
    "id": "9qKKGd2eyq6E"
   },
   "source": [
    "## Бонус (эксперименты с LSH)"
   ]
  },
  {
   "cell_type": "markdown",
   "metadata": {
    "id": "l-_YTZzg1qnq"
   },
   "source": [
    "Скопируйте все функции из [ноутбука в уроке \"Быстрый поиск соседей\"](https://colab.research.google.com/drive/181MMOcTnzdMVzJr0pWzqtEG0-BV9BIHH)."
   ]
  },
  {
   "cell_type": "code",
   "execution_count": null,
   "metadata": {
    "id": "ia2GsrwKy5co"
   },
   "outputs": [],
   "source": [
    "# ваш код здесь"
   ]
  },
  {
   "cell_type": "markdown",
   "metadata": {
    "id": "nYFSYav3vzVC"
   },
   "source": [
    "При помощи `knn_search` найдите ближайших соседей к вину `X_test.iloc[0]` в **тренировочных** данных.\n",
    "\n",
    "Обратите внимание, что функция `knn_search` принимает на вход `np.array`, а не `pd.DataFrame`. Поэтому переведите аргументы в `np.array`, приписав к необходимому объекту $X$: `X.values`."
   ]
  },
  {
   "cell_type": "code",
   "execution_count": null,
   "metadata": {
    "id": "NB-UNOgUunot"
   },
   "outputs": [],
   "source": [
    "%%time\n",
    "\n",
    "# ваш код здесь"
   ]
  },
  {
   "cell_type": "markdown",
   "metadata": {
    "id": "y86BRzABvLHB"
   },
   "source": [
    "Выведите на экран признаки объекта `X_test.iloc[0]` и признаки ближайшего найденного соседа."
   ]
  },
  {
   "cell_type": "code",
   "execution_count": null,
   "metadata": {
    "id": "Mi18Sp2WvQYE"
   },
   "outputs": [],
   "source": [
    "# ваш код здесь"
   ]
  },
  {
   "cell_type": "markdown",
   "metadata": {
    "id": "3aeCTiYnx2_q"
   },
   "source": [
    "**Вопрос:**\n",
    "\n",
    "Можно ли сказать, что в тренировочных данных есть вино, почти такое же как `X_test.iloc[0]`? (все признаки почти одинаковые)\n",
    "\n",
    "Какое расстояние между объектом запроса и первым ближайшим соседом?"
   ]
  },
  {
   "cell_type": "markdown",
   "metadata": {
    "id": "zWEBfyAay53O"
   },
   "source": [
    "Теперь найдите ближайшего соседа при помощи `approx_knn_search`."
   ]
  },
  {
   "cell_type": "code",
   "execution_count": null,
   "metadata": {
    "id": "ezxEITyiy-1a"
   },
   "outputs": [],
   "source": [
    "%%time\n",
    "\n",
    "# ваш код здесь"
   ]
  },
  {
   "cell_type": "markdown",
   "metadata": {
    "id": "sCPx6pgnwRqX"
   },
   "source": [
    "Ближайший сосед при помощи KNN+LSH может быть найден не точно или не с первого запуска.  \n",
    "Запустите последнюю ячейку несколько раз и убедитесь, что ближайший сосед находится верно за несколько запусков."
   ]
  },
  {
   "cell_type": "markdown",
   "metadata": {
    "id": "Rpj5qiwi2IJq"
   },
   "source": [
    "**Вопрос:**\n",
    "\n",
    "Запустите `knn_search` и `appox_knn_search` несколько раз и сравните время запусков. Какой из подходов в этой задаче работает быстрее?"
   ]
  },
  {
   "cell_type": "code",
   "execution_count": 43,
   "metadata": {},
   "outputs": [],
   "source": [
    "from sklearn.model_selection import LeaveOneOut"
   ]
  },
  {
   "cell_type": "code",
   "execution_count": 46,
   "metadata": {},
   "outputs": [],
   "source": [
    "data = pd.DataFrame({'feature1' : [-1,1,1,0], 'feature2' : [1, -1, 1, 0], 'target' : [1,1,1,-1]})"
   ]
  },
  {
   "cell_type": "code",
   "execution_count": 50,
   "metadata": {},
   "outputs": [
    {
     "data": {
      "text/plain": [
       "GridSearchCV(cv=LeaveOneOut(),\n",
       "             estimator=KNeighborsClassifier(metric='euclidean'),\n",
       "             param_grid={'n_neighbors': [1, 2, 3]})"
      ]
     },
     "execution_count": 50,
     "metadata": {},
     "output_type": "execute_result"
    }
   ],
   "source": [
    "loo = LeaveOneOut()\n",
    "X = data.drop('target', axis=1)\n",
    "y = data['target']\n",
    "model = KNeighborsClassifier(metric='euclidean')\n",
    "param_grid = {\n",
    "    'n_neighbors' : [1,2,3]\n",
    "}\n",
    "grid_model = GridSearchCV(estimator=model, param_grid=param_grid, cv=loo)\n",
    "grid_model.fit(X, y)"
   ]
  },
  {
   "cell_type": "code",
   "execution_count": 51,
   "metadata": {},
   "outputs": [
    {
     "data": {
      "text/plain": [
       "KNeighborsClassifier(metric='euclidean', n_neighbors=3)"
      ]
     },
     "execution_count": 51,
     "metadata": {},
     "output_type": "execute_result"
    }
   ],
   "source": [
    "grid_model.best_estimator_"
   ]
  },
  {
   "cell_type": "code",
   "execution_count": null,
   "metadata": {},
   "outputs": [],
   "source": []
  }
 ],
 "metadata": {
  "colab": {
   "provenance": []
  },
  "kernelspec": {
   "display_name": "Python 3 (ipykernel)",
   "language": "python",
   "name": "python3"
  },
  "language_info": {
   "codemirror_mode": {
    "name": "ipython",
    "version": 3
   },
   "file_extension": ".py",
   "mimetype": "text/x-python",
   "name": "python",
   "nbconvert_exporter": "python",
   "pygments_lexer": "ipython3",
   "version": "3.7.7"
  }
 },
 "nbformat": 4,
 "nbformat_minor": 1
}
