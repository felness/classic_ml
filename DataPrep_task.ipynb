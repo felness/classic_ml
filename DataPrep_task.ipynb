{
 "cells": [
  {
   "cell_type": "markdown",
   "metadata": {
    "id": "rlK2w1bKP0LV"
   },
   "source": [
    "# Обработка признаков"
   ]
  },
  {
   "cell_type": "markdown",
   "metadata": {
    "id": "A4FLq2z2gQPg"
   },
   "source": [
    "В этом домашнем задании вы будете решать задачу предсказания стоимости автомобилей по их различным характеристикам."
   ]
  },
  {
   "cell_type": "code",
   "execution_count": 116,
   "metadata": {
    "id": "yjbQ0vgCVeFB"
   },
   "outputs": [],
   "source": [
    "import pandas as pd\n",
    "import numpy as np\n",
    "RANDOM_STATE = 42"
   ]
  },
  {
   "cell_type": "code",
   "execution_count": 174,
   "metadata": {
    "id": "Ck9hQ3-oVki5"
   },
   "outputs": [],
   "source": [
    "df = pd.read_csv(\"https://raw.githubusercontent.com/evgpat/edu_stepik_practical_ml/main/datasets/cars_prices.csv\", decimal='.')"
   ]
  },
  {
   "cell_type": "code",
   "execution_count": 70,
   "metadata": {
    "colab": {
     "base_uri": "https://localhost:8080/",
     "height": 349
    },
    "id": "Lwc0nE9APqfs",
    "outputId": "1ebe050e-26dd-4c38-80ee-7f8fe3fdb3d8"
   },
   "outputs": [
    {
     "data": {
      "text/plain": [
       "Index(['symboling', 'normalized-losses', 'make', 'fuel-type', 'aspiration',\n",
       "       'num-of-doors', 'body-style', 'drive-wheels', 'engine-location',\n",
       "       'wheel-base', 'length', 'width', 'height', 'curb-weight', 'engine-type',\n",
       "       'num-of-cylinders', 'engine-size', 'fuel-system', 'bore', 'stroke',\n",
       "       'compression-ratio', 'horsepower', 'peak-rpm', 'city-mpg',\n",
       "       'highway-mpg', 'price'],\n",
       "      dtype='object')"
      ]
     },
     "execution_count": 70,
     "metadata": {},
     "output_type": "execute_result"
    }
   ],
   "source": [
    "df.columns"
   ]
  },
  {
   "cell_type": "markdown",
   "metadata": {
    "id": "cZ3Z2rtSQBZB"
   },
   "source": [
    "### Описание некоторых признаков\n",
    "\n",
    "`symboling` - rating corresponds to the degree to which the auto is more risky than its price indicates (+3 more risk and -3 is pretty safe)  \n",
    "`make` - car types (i.e. car brand)  \n",
    "`fuel-type` - types of fuel (gas or diesel)  \n",
    "`aspiration` - engine aspiration (standard or turbo)  \n",
    "`num-of-doors` - numbers of doors (two or four)  \n",
    "`body-style` - car body style (sedan or hachback)  \n",
    "`drive-wheels` - which types of drive wheel (forward-fwd, reversed-rwd)  \n",
    "`engine-location` - engine mounted location (front or back)  \n",
    "`wheel-base` - расстояние между осями передних и задних колес  \n",
    "`length` - car lenght  \n",
    "`weight` - car weight  \n",
    "`width` - car width  \n",
    "`height` - car height  "
   ]
  },
  {
   "cell_type": "code",
   "execution_count": 4,
   "metadata": {
    "colab": {
     "base_uri": "https://localhost:8080/"
    },
    "id": "0RdRAOIiXnpi",
    "outputId": "cf1973b1-99b5-438e-cc59-c83e1418090a"
   },
   "outputs": [
    {
     "data": {
      "text/plain": [
       "(205, 26)"
      ]
     },
     "execution_count": 4,
     "metadata": {},
     "output_type": "execute_result"
    }
   ],
   "source": [
    "df.shape"
   ]
  },
  {
   "cell_type": "code",
   "execution_count": 175,
   "metadata": {
    "colab": {
     "base_uri": "https://localhost:8080/"
    },
    "id": "j5evdCySRmAW",
    "outputId": "6854c8ad-b8fb-4c52-df5d-01378c6b1713"
   },
   "outputs": [
    {
     "data": {
      "text/plain": [
       "Index(['symboling', 'wheel-base', 'length', 'width', 'height', 'curb-weight',\n",
       "       'engine-size', 'compression-ratio', 'peak-rpm', 'city-mpg',\n",
       "       'highway-mpg'],\n",
       "      dtype='object')"
      ]
     },
     "execution_count": 175,
     "metadata": {},
     "output_type": "execute_result"
    }
   ],
   "source": [
    "\n",
    "df.replace('?', np.nan, inplace=True)\n",
    "df['peak-rpm'] = df['peak-rpm'].astype('float64')\n",
    "num_cols = df.select_dtypes(include='number').columns\n",
    "num_cols"
   ]
  },
  {
   "cell_type": "markdown",
   "metadata": {
    "id": "467CN2G3YULB"
   },
   "source": [
    "## Заполнение пропусков"
   ]
  },
  {
   "cell_type": "markdown",
   "metadata": {
    "id": "rdAu_7lbgog5"
   },
   "source": [
    "Пропуски в этом датасете обозначены как `?`"
   ]
  },
  {
   "cell_type": "code",
   "execution_count": 64,
   "metadata": {
    "colab": {
     "base_uri": "https://localhost:8080/"
    },
    "id": "KzMBbxpYWZn3",
    "outputId": "9252dc6d-2650-45af-e5ef-fb192a257afd"
   },
   "outputs": [
    {
     "ename": "AttributeError",
     "evalue": "'NoneType' object has no attribute 'columns'",
     "output_type": "error",
     "traceback": [
      "\u001b[0;31m---------------------------------------------------------------------------\u001b[0m",
      "\u001b[0;31mAttributeError\u001b[0m                            Traceback (most recent call last)",
      "\u001b[0;32m/tmp/ipykernel_5698/2736183930.py\u001b[0m in \u001b[0;36m<module>\u001b[0;34m\u001b[0m\n\u001b[0;32m----> 1\u001b[0;31m \u001b[0;32mfor\u001b[0m \u001b[0mc\u001b[0m \u001b[0;32min\u001b[0m \u001b[0mdf\u001b[0m\u001b[0;34m.\u001b[0m\u001b[0mcolumns\u001b[0m\u001b[0;34m:\u001b[0m\u001b[0;34m\u001b[0m\u001b[0;34m\u001b[0m\u001b[0m\n\u001b[0m\u001b[1;32m      2\u001b[0m     \u001b[0mprint\u001b[0m\u001b[0;34m(\u001b[0m\u001b[0mc\u001b[0m\u001b[0;34m,\u001b[0m \u001b[0mlen\u001b[0m\u001b[0;34m(\u001b[0m\u001b[0mdf\u001b[0m\u001b[0;34m[\u001b[0m\u001b[0mdf\u001b[0m\u001b[0;34m[\u001b[0m\u001b[0mc\u001b[0m\u001b[0;34m]\u001b[0m \u001b[0;34m==\u001b[0m \u001b[0;34m'?'\u001b[0m\u001b[0;34m]\u001b[0m\u001b[0;34m)\u001b[0m\u001b[0;34m)\u001b[0m\u001b[0;34m\u001b[0m\u001b[0;34m\u001b[0m\u001b[0m\n",
      "\u001b[0;31mAttributeError\u001b[0m: 'NoneType' object has no attribute 'columns'"
     ]
    }
   ],
   "source": [
    "for c in df.columns:\n",
    "    print(c, len(df[df[c] == '?']))"
   ]
  },
  {
   "cell_type": "markdown",
   "metadata": {
    "id": "B_u_0_UJXwkg"
   },
   "source": [
    "Удалите строки, для которых неизвестно значение price, так как это целевая переменная."
   ]
  },
  {
   "cell_type": "markdown",
   "metadata": {
    "id": "4nnW4mCse2oq"
   },
   "source": [
    "## Вопрос для Quiz\n",
    "\n",
    "Сколько строк осталось в данных?"
   ]
  },
  {
   "cell_type": "code",
   "execution_count": 41,
   "metadata": {
    "id": "ZEdtYlvUX1Kj"
   },
   "outputs": [
    {
     "data": {
      "text/plain": [
       "19"
      ]
     },
     "execution_count": 41,
     "metadata": {},
     "output_type": "execute_result"
    }
   ],
   "source": [
    "\n",
    "# df = df[df['price'] != '?']\n",
    "# df['price'] #201\n",
    "df['stroke'].value_counts()[0]"
   ]
  },
  {
   "cell_type": "markdown",
   "metadata": {
    "id": "BzBhbWe6Xttu"
   },
   "source": [
    "Заполните средним значением пропуски в столбцах для числовых признаков и самым популярным значением для категориальных признаков\n",
    "* `num-of-doors`\n",
    "* `bore`\n",
    "* `stroke`\n",
    "* `horsepower`\n",
    "* `peak-rpm`"
   ]
  },
  {
   "cell_type": "code",
   "execution_count": 176,
   "metadata": {
    "id": "ZFS5aqMfXThA"
   },
   "outputs": [],
   "source": [
    "\n",
    "df[num_cols] = df[num_cols].apply(lambda x : x.fillna(x.mean()))\n",
    "cat_cols = ['num-of-doors', 'bore', 'stroke', 'horsepower']\n",
    "\n",
    "# df[cat_cols] = df[cat_cols].apply(lambda x : x.fillna(x.value_counts().idxmax()))\n",
    "# df[cat_cols].isnull().sum()"
   ]
  },
  {
   "cell_type": "code",
   "execution_count": 177,
   "metadata": {},
   "outputs": [
    {
     "data": {
      "text/plain": [
       "num-of-doors    0\n",
       "bore            0\n",
       "stroke          0\n",
       "horsepower      0\n",
       "dtype: int64"
      ]
     },
     "execution_count": 177,
     "metadata": {},
     "output_type": "execute_result"
    }
   ],
   "source": [
    "df[cat_cols] = df[cat_cols].apply(lambda x : x.fillna(x.value_counts().idxmax()))\n",
    "df[cat_cols].isnull().sum()"
   ]
  },
  {
   "cell_type": "markdown",
   "metadata": {
    "id": "e__FkolsfC53"
   },
   "source": [
    "## Вопрос для Quiz\n",
    "\n",
    "Чему равно среднее значение `peak-rpm` до заполнения пропусков? Ответ округлите до целого числа."
   ]
  },
  {
   "cell_type": "code",
   "execution_count": 180,
   "metadata": {},
   "outputs": [
    {
     "data": {
      "text/plain": [
       "26"
      ]
     },
     "execution_count": 180,
     "metadata": {},
     "output_type": "execute_result"
    }
   ],
   "source": [
    "df.shape[1]"
   ]
  },
  {
   "cell_type": "markdown",
   "metadata": {
    "id": "DKJJUWRUYCPc"
   },
   "source": [
    "Пропуски в столбце `normalized-losses` предскажите при помощи линейной регрессии по признакам\n",
    "`symboling`, `wheel-base`, `length`, `width`, `height`, `curb-weight`, `engine-size`, `compression-ratio`, `city-mpg`, `highway-mpg` и заполните их предсказаниями"
   ]
  },
  {
   "cell_type": "code",
   "execution_count": null,
   "metadata": {
    "id": "VxI417PYYF1u"
   },
   "outputs": [],
   "source": [
    "from sklearn.linear_model import LinearRegression\n",
    "train_df = df[]"
   ]
  },
  {
   "cell_type": "markdown",
   "metadata": {
    "id": "LVcKyBT6fMyB"
   },
   "source": [
    "## Вопрос для Quiz\n",
    "\n",
    "Чему равно предсказание линейной регрессии на первом пропущенном значении? Ответ округлите до целого числа."
   ]
  },
  {
   "cell_type": "markdown",
   "metadata": {
    "id": "4nCtOgdHYWcK"
   },
   "source": [
    "## 2. Кодирование категориальных признаков"
   ]
  },
  {
   "cell_type": "markdown",
   "metadata": {
    "id": "NfpKlPSoZrOx"
   },
   "source": [
    "1. Закодируйте бинарные признаки `fuel-type`, `aspiration`, `num-of-doors`, `engine-location` каждый отдельной колонкой, состоящей из 0 и 1.\n",
    "Единицей кодируйте самую частую категорию."
   ]
  },
  {
   "cell_type": "code",
   "execution_count": 178,
   "metadata": {
    "id": "SNMXDMrOaDC3"
   },
   "outputs": [
    {
     "data": {
      "text/plain": [
       "0      rwd\n",
       "1      rwd\n",
       "2      rwd\n",
       "3      fwd\n",
       "4      4wd\n",
       "      ... \n",
       "200    rwd\n",
       "201    rwd\n",
       "202    rwd\n",
       "203    rwd\n",
       "204    rwd\n",
       "Name: drive-wheels, Length: 205, dtype: object"
      ]
     },
     "execution_count": 178,
     "metadata": {},
     "output_type": "execute_result"
    }
   ],
   "source": [
    "cols = ['fuel-type', 'aspiration', 'num-of-doors', 'engine-location']\n",
    "for col in cols:\n",
    "    df[col] = df[col].apply(lambda x: 1 if x == df[col].value_counts().idxmax() else 0)\n",
    "df['drive-wheels']"
   ]
  },
  {
   "cell_type": "markdown",
   "metadata": {
    "id": "63EWSfcdacBP"
   },
   "source": [
    "2. Вынесите в переменную `y` целевую переменную `price`, а все остальные колонки - в матрицу `X`.\n",
    "\n",
    "Закодируйте признаки `make`, `body-style`, `engine-type`, `fuel-system` при помощи LeaveOneOutEncoder.\n",
    "\n",
    "**Дальше все время работайте с объектами `X`, `y`.**"
   ]
  },
  {
   "cell_type": "code",
   "execution_count": 124,
   "metadata": {
    "colab": {
     "base_uri": "https://localhost:8080/"
    },
    "id": "CrYYbC7qaqhu",
    "outputId": "35664264-cea7-48bb-f8e7-eda9c4eacc27"
   },
   "outputs": [],
   "source": [
    "!pip install category_encoders -q"
   ]
  },
  {
   "cell_type": "code",
   "execution_count": 202,
   "metadata": {
    "id": "mVYSRQPkas_H"
   },
   "outputs": [
    {
     "data": {
      "text/plain": [
       "13207.129353233831"
      ]
     },
     "execution_count": 202,
     "metadata": {},
     "output_type": "execute_result"
    }
   ],
   "source": [
    "from category_encoders.leave_one_out import LeaveOneOutEncoder\n",
    "X = df.drop('price', axis=1)\n",
    "y = df['price']\n",
    "coder = LeaveOneOutEncoder()\n",
    "X[['make', 'body-style', 'engine-type', 'fuel-system']] = coder.fit_transform(X[['make', 'body-style', 'engine-type', 'fuel-system']],y)\n",
    "X['body-style'].mean()"
   ]
  },
  {
   "cell_type": "markdown",
   "metadata": {
    "id": "xrayBEdmfajI"
   },
   "source": [
    "## Вопрос для Quiz\n",
    "\n",
    "Чему равно среднее значение в столбце `body-style` после кодирования? Ответ округлите до целого числа."
   ]
  },
  {
   "cell_type": "markdown",
   "metadata": {
    "id": "bijoPpNabTpr"
   },
   "source": [
    "3. Закодируйте признак `drive-wheels` при помощи OHE из библиотеки category_encoders."
   ]
  },
  {
   "cell_type": "code",
   "execution_count": 203,
   "metadata": {
    "id": "QaKHWAJ6bTUg"
   },
   "outputs": [
    {
     "data": {
      "text/plain": [
       "3"
      ]
     },
     "execution_count": 203,
     "metadata": {},
     "output_type": "execute_result"
    }
   ],
   "source": [
    "from category_encoders.one_hot import OneHotEncoder\n",
    "coders = OneHotEncoder()\n",
    "X_new = coders.fit_transform(X[['drive-wheels']], drop='first')\n",
    "X_new.shape[1]"
   ]
  },
  {
   "cell_type": "markdown",
   "metadata": {
    "id": "49oY1K1ab9zj"
   },
   "source": [
    "4. В столбце `num-of-cylinders` категории упорядочены по смыслу. Закодируйте их подряд идущими числами, начиная с 1, согласно смыслу.\n",
    "\n",
    "Подряд идущими числами означает - 1, 2, 3 и так далее без пропусков."
   ]
  },
  {
   "cell_type": "code",
   "execution_count": 200,
   "metadata": {
    "id": "zpvie4xGYbQz"
   },
   "outputs": [
    {
     "data": {
      "text/plain": [
       "28"
      ]
     },
     "execution_count": 200,
     "metadata": {},
     "output_type": "execute_result"
    }
   ],
   "source": [
    "from category_encoders.ordinal import OrdinalEncoder\n",
    "ordinal_encoder = OrdinalEncoder()\n",
    "X['num-of-cylinders'] = ordinal_encoder.fit_transform(X['num-of-cylinders'])\n",
    "X.shape[1]"
   ]
  },
  {
   "cell_type": "markdown",
   "metadata": {
    "id": "pzIWb2qgfvcM"
   },
   "source": [
    "## Вопрос для Quiz\n",
    "\n",
    "Сколько столбцов получилось в матрице `X`?"
   ]
  },
  {
   "cell_type": "code",
   "execution_count": 201,
   "metadata": {},
   "outputs": [
    {
     "data": {
      "text/plain": [
       "28"
      ]
     },
     "execution_count": 201,
     "metadata": {},
     "output_type": "execute_result"
    }
   ],
   "source": [
    "X.shape[1]"
   ]
  },
  {
   "cell_type": "code",
   "execution_count": null,
   "metadata": {
    "id": "7Gnh7Q-UYqPF"
   },
   "outputs": [],
   "source": [
    "X['normalized-losses'] = X['normalized-losses'].astype(float)\n",
    "X['bore'] = X['bore'].astype(float)\n",
    "X['stroke'] = X['stroke'].astype(float)\n",
    "X['horsepower'] = X['horsepower'].astype(float)\n",
    "X['peak-rpm'] = X['peak-rpm'].astype(float)\n",
    "\n",
    "y = y.astype(float)"
   ]
  },
  {
   "cell_type": "markdown",
   "metadata": {
    "id": "T7sJS-JMdwtl"
   },
   "source": [
    "Разбейте данные на тренировочную и тестовую часть в пропорции 3 к 1, зафиксируйте random_state = 42."
   ]
  },
  {
   "cell_type": "code",
   "execution_count": null,
   "metadata": {
    "id": "YzLuleOHdrHi"
   },
   "outputs": [],
   "source": [
    "from sklearn.model_selection import train_test_split\n",
    "\n",
    "# your code here"
   ]
  },
  {
   "cell_type": "markdown",
   "metadata": {
    "id": "F5OC3BTxd-Z9"
   },
   "source": [
    "Масштабируйте данные при помощи MinMaxScaler.\n",
    "\n",
    "Обучайте масштабирование на тренировочных данных, а потом примените и к трейну, и к тесту."
   ]
  },
  {
   "cell_type": "code",
   "execution_count": null,
   "metadata": {
    "id": "CtUczvWgd9vt"
   },
   "outputs": [],
   "source": [
    "from sklearn.preprocessing import MinMaxScaler\n",
    "\n",
    "# your code here"
   ]
  },
  {
   "cell_type": "markdown",
   "metadata": {
    "id": "rAknalf5eevG"
   },
   "source": [
    "Обучите на тренировочных данных линейную регрессию, сделайте предсказание на тесте и вычислите значение $R^2$ на тестовых данных."
   ]
  },
  {
   "cell_type": "code",
   "execution_count": null,
   "metadata": {
    "id": "tvmiFFkqeU2B"
   },
   "outputs": [],
   "source": [
    "# your code here"
   ]
  },
  {
   "cell_type": "markdown",
   "metadata": {
    "id": "5JWcIWG-f7X7"
   },
   "source": [
    "## Вопрос для Quiz\n",
    "\n",
    "Чему равно значение $R^2$ на тестовых данных? Ответ округлите до сотых."
   ]
  }
 ],
 "metadata": {
  "colab": {
   "provenance": []
  },
  "kernelspec": {
   "display_name": "Python 3 (ipykernel)",
   "language": "python",
   "name": "python3"
  },
  "language_info": {
   "codemirror_mode": {
    "name": "ipython",
    "version": 3
   },
   "file_extension": ".py",
   "mimetype": "text/x-python",
   "name": "python",
   "nbconvert_exporter": "python",
   "pygments_lexer": "ipython3",
   "version": "3.7.7"
  }
 },
 "nbformat": 4,
 "nbformat_minor": 1
}
