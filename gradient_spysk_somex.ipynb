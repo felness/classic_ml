{
 "cells": [
  {
   "cell_type": "code",
   "execution_count": 1,
   "id": "1e66d1ff",
   "metadata": {},
   "outputs": [],
   "source": [
    "import pandas as pd\n",
    "import numpy as np"
   ]
  },
  {
   "cell_type": "code",
   "execution_count": 2,
   "id": "bf71b1c3",
   "metadata": {},
   "outputs": [
    {
     "data": {
      "text/html": [
       "<div>\n",
       "<style scoped>\n",
       "    .dataframe tbody tr th:only-of-type {\n",
       "        vertical-align: middle;\n",
       "    }\n",
       "\n",
       "    .dataframe tbody tr th {\n",
       "        vertical-align: top;\n",
       "    }\n",
       "\n",
       "    .dataframe thead th {\n",
       "        text-align: right;\n",
       "    }\n",
       "</style>\n",
       "<table border=\"1\" class=\"dataframe\">\n",
       "  <thead>\n",
       "    <tr style=\"text-align: right;\">\n",
       "      <th></th>\n",
       "      <th>x1</th>\n",
       "      <th>x2</th>\n",
       "      <th>y</th>\n",
       "    </tr>\n",
       "  </thead>\n",
       "  <tbody>\n",
       "    <tr>\n",
       "      <th>0</th>\n",
       "      <td>10</td>\n",
       "      <td>40</td>\n",
       "      <td>100</td>\n",
       "    </tr>\n",
       "    <tr>\n",
       "      <th>1</th>\n",
       "      <td>5</td>\n",
       "      <td>36</td>\n",
       "      <td>73</td>\n",
       "    </tr>\n",
       "    <tr>\n",
       "      <th>2</th>\n",
       "      <td>7</td>\n",
       "      <td>30</td>\n",
       "      <td>71</td>\n",
       "    </tr>\n",
       "  </tbody>\n",
       "</table>\n",
       "</div>"
      ],
      "text/plain": [
       "   x1  x2    y\n",
       "0  10  40  100\n",
       "1   5  36   73\n",
       "2   7  30   71"
      ]
     },
     "execution_count": 2,
     "metadata": {},
     "output_type": "execute_result"
    }
   ],
   "source": [
    "df = pd.DataFrame({'x1' : [10, 5, 7], 'x2' : [40, 36, 30], 'y' : [100, 73, 71]})\n",
    "df"
   ]
  },
  {
   "cell_type": "code",
   "execution_count": 3,
   "id": "018405c3",
   "metadata": {},
   "outputs": [],
   "source": [
    "def prediction(w, x1, x2):\n",
    "    return w[0] + w[1] * x1 + w[2] * x2"
   ]
  },
  {
   "cell_type": "code",
   "execution_count": 4,
   "id": "03cebe9b",
   "metadata": {},
   "outputs": [],
   "source": [
    "def gradient_MSE(w, x1, x2, y):\n",
    "    dw0 = (2/3) * (w[0] + w[1]*x1 + w[2]*x2 - y)\n",
    "    dw1 = (2/3) * x1 * (w[0] + w[1]*x1 + w[2]*x2 - y)\n",
    "    dw2 = (2/3) * x2 * (w[0] + w[1]*x1 + w[2]*x2 - y)\n",
    "    \n",
    "    return np.array([dw0, dw1, dw2])"
   ]
  },
  {
   "cell_type": "code",
   "execution_count": 5,
   "id": "e993de23",
   "metadata": {},
   "outputs": [],
   "source": [
    "def gradient(data, w_start, learning_rate, n_iter):\n",
    "    w_curr = w_start\n",
    "    for i in range(n_iter):\n",
    "        grad_mse = np.zeros(3)\n",
    "        for _, row in data.iterrows():\n",
    "            x1, x2, y = row\n",
    "            grad_mse += gradient_MSE(w_curr, x1, x2, y)\n",
    "        w_new = w_curr -learning_rate * grad_mse\n",
    "        w_curr = w_new\n",
    "    return w_curr"
   ]
  },
  {
   "cell_type": "code",
   "execution_count": 6,
   "id": "08dd3858",
   "metadata": {},
   "outputs": [
    {
     "data": {
      "text/plain": [
       "array([0.46991443, 3.95353998, 1.4713313 ])"
      ]
     },
     "execution_count": 6,
     "metadata": {},
     "output_type": "execute_result"
    }
   ],
   "source": [
    "gradient(df, np.random.rand(3), 0.0001, 5000)"
   ]
  },
  {
   "cell_type": "code",
   "execution_count": null,
   "id": "39ce45e0",
   "metadata": {},
   "outputs": [],
   "source": []
  }
 ],
 "metadata": {
  "kernelspec": {
   "display_name": "Python 3 (ipykernel)",
   "language": "python",
   "name": "python3"
  },
  "language_info": {
   "codemirror_mode": {
    "name": "ipython",
    "version": 3
   },
   "file_extension": ".py",
   "mimetype": "text/x-python",
   "name": "python",
   "nbconvert_exporter": "python",
   "pygments_lexer": "ipython3",
   "version": "3.7.7"
  }
 },
 "nbformat": 4,
 "nbformat_minor": 5
}
